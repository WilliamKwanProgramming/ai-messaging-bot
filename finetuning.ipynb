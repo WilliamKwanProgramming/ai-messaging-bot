{
 "cells": [
  {
   "cell_type": "code",
   "execution_count": null,
   "id": "e651771e-7540-44ba-88d2-ed811ca2d6d4",
   "metadata": {},
   "outputs": [],
   "source": [
    "# Installs all packages, including Unsloth, Xformers, etc\n",
    "!pip install \"unsloth[colab-new] @ git+https://github.com/unslothai/unsloth.git\"\n",
    "!pip install --no-deps \"xformers<0.0.27\" \"trl<0.9.0\" perf acceleratate bitsandbytes"
   ]
  },
  {
   "cell_type": "markdown",
   "id": "6261eaca-aba2-4a2a-a1a2-d1c07b227b48",
   "metadata": {},
   "source": [
    "## Background\n",
    "What if you can train an AI off of texts of someone, and talk with it? Is it possible to finetune a pre-existing model without the need to use any online LLM? Finetuning big models (anything >7B) requires a minimum of 32gb of VRAM. We will use whatsapp chats in our project"
   ]
  },
  {
   "cell_type": "markdown",
   "id": "863d94f4-89c2-468d-8417-4210b7c0e817",
   "metadata": {},
   "source": [
    "We assume that all exported chats (Whatsapp, Telegram, Messenger) are meaningful conversations, and adds value to the data. "
   ]
  },
  {
   "cell_type": "markdown",
   "id": "f4fa83b4-000a-4f49-b517-876d9dcee3db",
   "metadata": {},
   "source": [
    "## Data Filtering\n",
    "Exported data contains many irregularities such as `<Media omitted>`, `This message was deleted`, etc. It also contains timestamps. I removed them and converted the chat history format into `Prompt: Response`. To extract the messages, I used `regex`. Additionally I filtered out any links and emails, for privacy reasons. \n",
    "\n",
    "Additionally, I included a list of excluded words in which the fine-tuned model won't learn from. Words such as `Ok`, `Yup`, `Hmm`, `K`. "
   ]
  },
  {
   "cell_type": "code",
   "execution_count": null,
   "id": "88d99bcb-39c9-4d2f-9890-ff438da07752",
   "metadata": {},
   "outputs": [],
   "source": [
    "filler_words = [\"Ok\", \"Okay\", \"Yup\", \"Hmm\"]\n",
    "# Add or remove words from this list based on your personal usage.\n",
    "\n",
    "# Chat directory as root\n",
    "chat_dir = \"./\""
   ]
  },
  {
   "cell_type": "code",
   "execution_count": null,
   "id": "895fbd68-e57c-45a9-82b9-3230bfa14020",
   "metadata": {},
   "outputs": [],
   "source": [
    "import os\n",
    "import re\n",
    "from typing import List, Tuple, Dict\n",
    "\n",
    "class WhatsAppChatProcessor:\n",
    "    \"\"\"\n",
    "    A class to load, filter, and process WhatsApp chat exports.\n",
    "    \"\"\"\n",
    "\n",
    "    DATE_PATTERN = r'\\d{1,2}/\\d{1,2}/\\d{2,4}, \\d{1,2}:\\d{2}\\s*(?:AM|PM|am|pm)?'\n",
    "\n",
    "    def __init__(self):\n",
    "        self.contact_name: str = \"\"\n",
    "        self.my_name: str = \"\"\n",
    "\n",
    "    def open_chat_file(self, directory: str, filename: str) -> str:\n",
    "        \"\"\"\n",
    "        Reads the raw text of a WhatsApp chat export.\n",
    "        Also extracts the contact name from the filename.\n",
    "        \"\"\"\n",
    "        # Derive the other party’s name from the filename\n",
    "        self.contact_name = filename.replace(\"WhatsApp Chat with \", \"\").replace(\".txt\", \"\")\n",
    "        full_path = os.path.join(directory, filename)\n",
    "        with open(full_path, encoding='utf-8') as f:\n",
    "            return f.read()\n",
    "\n",
    "    def msg_filter_basic(self, raw_text: str) -> List[Tuple[str, str]]:\n",
    "        \"\"\"\n",
    "        Extracts (sender, message) pairs and filters out\n",
    "        system messages, media placeholders, URLs, and deleted messages.\n",
    "        \"\"\"\n",
    "        # Regex to split into (sender, message) based on WhatsApp timestamp format\n",
    "        pattern = (\n",
    "            rf' - ([^:]+): (.*?)'\n",
    "            rf'(?={self.DATE_PATTERN} - |$)'\n",
    "        )\n",
    "        all_messages = re.findall(pattern, raw_text, re.DOTALL)\n",
    "\n",
    "        filtered: List[Tuple[str, str]] = []\n",
    "        for sender, msg in all_messages:\n",
    "            # Skip default WhatsApp prompts, media placeholders, URLs, etc.\n",
    "            if any(phrase in msg for phrase in [\n",
    "                \"Tap to learn more.\",\n",
    "                \"<Media omitted>\",\n",
    "                \"http://\",\n",
    "                \"https://\",\n",
    "                \"@gmail.com\",\n",
    "                \"This message was deleted\",\n",
    "                \"You deleted this message\",\n",
    "                \"<This message was edited>\",\n",
    "                \"(file attached)\"\n",
    "            ]):\n",
    "                continue\n",
    "            filtered.append((sender, msg.strip()))\n",
    "        return filtered\n",
    "\n",
    "    def merge_consecutive_messages(self, messages: List[Tuple[str, str]]) -> List[Dict[str, List[str]]]:\n",
    "        \"\"\"\n",
    "        Merges consecutive lines from the same sender into single entries.\n",
    "        Returns a list of dicts: [{sender1: [...lines]}, {sender2: [...lines]}, ...].\n",
    "        \"\"\"\n",
    "        merged: List[Dict[str, List[str]]] = []\n",
    "        current_sender = None\n",
    "        buffer: List[str] = []\n",
    "\n",
    "        for sender, text in messages:\n",
    "            if sender == current_sender:\n",
    "                # Continue accumulating lines for the same sender\n",
    "                buffer.append(text)\n",
    "            else:\n",
    "                # When the sender changes, flush the previous buffer\n",
    "                if current_sender is not None:\n",
    "                    merged.append({current_sender: buffer})\n",
    "                current_sender = sender\n",
    "                buffer = [text]\n",
    "\n",
    "        # Flush the final buffer\n",
    "        if current_sender is not None:\n",
    "            merged.append({current_sender: buffer})\n",
    "\n",
    "        # Identify your own name (the first other than the contact)\n",
    "        participants = {list(entry.keys())[0] for entry in merged}\n",
    "        participants.discard(self.contact_name)\n",
    "        if participants:\n",
    "            self.my_name = participants.pop()\n",
    "\n",
    "        return merged\n",
    "\n",
    "    def pair_conversations(self, merged: List[Dict[str, List[str]]], filler_words: List[str]) -> List[List[str]]:\n",
    "        \"\"\"\n",
    "        Pairs each message from the contact with the subsequent message from you,\n",
    "        skipping trivial or one-word “filler” replies from the contact.\n",
    "        Returns a list of [contact_message, my_response] pairs.\n",
    "        \"\"\"\n",
    "        pairs: List[List[str]] = []\n",
    "        contact_buffer = []\n",
    "        expecting_response = False\n",
    "\n",
    "        for entry in merged:\n",
    "            sender, lines = next(iter(entry.items()))\n",
    "            text = \"\\n\".join(lines).strip()\n",
    "\n",
    "            if sender == self.contact_name:\n",
    "                # Skip if it's just a filler word or single character\n",
    "                if len(lines) == 1 and (text in filler_words or len(text) == 1):\n",
    "                    continue\n",
    "                contact_buffer.append(text)\n",
    "                expecting_response = True\n",
    "\n",
    "            elif sender == self.my_name and expecting_response:\n",
    "                # Combine accumulated contact messages, then pair with your response\n",
    "                contact_text = \"\\n\".join(contact_buffer)\n",
    "                pairs.append([contact_text, text])\n",
    "                # Reset for next pair\n",
    "                contact_buffer = []\n",
    "                expecting_response = False\n",
    "\n",
    "        return pairs\n"
   ]
  },
  {
   "cell_type": "code",
   "execution_count": null,
   "id": "0d72ba31-3880-42a1-9ad2-51dc3c7272de",
   "metadata": {},
   "outputs": [],
   "source": [
    "with open(\"all_chat_data.csv\", \"w\") as f:\n",
    "    f.write(\"Prompt,Response\"+ \"\\n\")\n",
    "\n",
    "for file in os.listdir(os.path.join(chat_dir)):\n",
    "    if file.endswith('.zip'):\n",
    "        full_path = os.path.join(chat_dir, file)\n",
    "        shutil.unpack_archive(full_path, chat_dir)"
   ]
  },
  {
   "cell_type": "code",
   "execution_count": null,
   "id": "fd3415bd-455c-497f-b7eb-63dce1636084",
   "metadata": {},
   "outputs": [],
   "source": [
    "for file in os.listdir(os.path.join(chat_dir)):\n",
    "    processor = Wh_Chat_Processor()\n",
    "    if file.endswith('.txt'):\n",
    "        print(\"Processing: \",file)\n",
    "        chat_d = processor.open_chat_file(chat_dir,file)\n",
    "        basic_f = processor.msg_filter_basic(chat_d)\n",
    "        chat_ps = processor.process_chat(basic_f)\n",
    "        filtered_data = processor.advance_filter(chat_ps)\n",
    "        with open(\"all_chat_data.csv\", \"a\") as f:\n",
    "            csv_writer = csv.writer(f)\n",
    "            for row in filtered_data:\n",
    "                csv_writer.writerow(row)\n",
    "print(\"Successfully Processed all the chats... Generated CSV File of chats is saved in Current directory with the name 'all_chat_data.csv'\")"
   ]
  },
  {
   "cell_type": "markdown",
   "id": "28d64d82-ce37-465c-80c3-540a983fe0ba",
   "metadata": {},
   "source": [
    "## Fine-tuning with constraints\n",
    "\n",
    "Fine-tuning a 7B parameter model with little VRAM isn't exactly possible. We will use [Quantization](https://huggingface.co/docs/optimum/en/concept_guides/quantization). Specifically, we will use 4-bit quantization. For the rest of the fine-tuning, I will be using [Unsloth](https://github.com/unslothai/unsloth), which uses 80% less VRAM. \n",
    "\n",
    "For fine-tuning, I am using `Llama3` 8B Instruct as my base model. You can also try Mixtral or Gemma.\r\n"
   ]
  },
  {
   "cell_type": "code",
   "execution_count": null,
   "id": "c15ef9c7-0006-47d8-ab53-c0f89148574e",
   "metadata": {},
   "outputs": [],
   "source": [
    "from unsloth import FastLanguageModel\n",
    "import torch\n",
    "max_seq_length = 2048 # Choose any! We auto support RoPE Scaling internally!\n",
    "dtype = None # None for auto detection. Float16 for Tesla T4, V100, Bfloat16 for Ampere+\n",
    "load_in_4bit = True # Use 4bit quantization to reduce memory usage. Can be False.\n",
    "\n",
    "# 4bit pre quantized models we support for 4x faster downloading + no OOMs.\n",
    "fourbit_models = [\n",
    "    \"unsloth/mistral-7b-v0.3-bnb-4bit\",      # New Mistral v3 2x faster!\n",
    "    \"unsloth/mistral-7b-instruct-v0.3-bnb-4bit\",\n",
    "    \"unsloth/llama-3-8b-bnb-4bit\",           # Llama-3 15 trillion tokens model 2x faster!\n",
    "    \"unsloth/llama-3-8b-Instruct-bnb-4bit\",\n",
    "    \"unsloth/llama-3-70b-bnb-4bit\",\n",
    "    \"unsloth/Phi-3-mini-4k-instruct\",        # Phi-3 2x faster!\n",
    "    \"unsloth/Phi-3-medium-4k-instruct\",\n",
    "    \"unsloth/mistral-7b-bnb-4bit\",\n",
    "    \"unsloth/gemma-7b-bnb-4bit\",             # Gemma 2.2x faster!\n",
    "] # More models at https://huggingface.co/unsloth\n",
    "\n",
    "model, tokenizer = FastLanguageModel.from_pretrained(\n",
    "    model_name = \"unsloth/llama-3-8b-Instruct-bnb-4bit\", # Choose ANY! eg teknium/OpenHermes-2.5-Mistral-7B\n",
    "    max_seq_length = max_seq_length,\n",
    "    dtype = dtype,\n",
    "    load_in_4bit = load_in_4bit,\n",
    "    # token = \"hf_...\", # use one if using gated models like meta-llama/Llama-2-7b-hf\n",
    ")"
   ]
  },
  {
   "cell_type": "markdown",
   "id": "20cd7add-88e1-414c-a0f3-a4f7dbb67987",
   "metadata": {},
   "source": [
    "Add LoRA adapters so only need to update 1-10% of all parameters"
   ]
  },
  {
   "cell_type": "code",
   "execution_count": null,
   "id": "2496846c-5f08-48c5-b282-c7bb40520873",
   "metadata": {},
   "outputs": [],
   "source": [
    "model = FastLanguageModel.get_peft_model(\n",
    "    model,\n",
    "    r = 16, # Choose any number > 0 ! Suggested 8, 16, 32, 64, 128\n",
    "    target_modules = [\"q_proj\", \"k_proj\", \"v_proj\", \"o_proj\",\n",
    "                      \"gate_proj\", \"up_proj\", \"down_proj\",],\n",
    "    lora_alpha = 16,\n",
    "    lora_dropout = 0, # Supports any, but = 0 is optimized\n",
    "    bias = \"none\",    # Supports any, but = \"none\" is optimized\n",
    "    # [NEW] \"unsloth\" uses 30% less VRAM, fits 2x larger batch sizes!\n",
    "    use_gradient_checkpointing = \"unsloth\", # True or \"unsloth\" for very long context\n",
    "    random_state = 3407,\n",
    "    use_rslora = False,  # We support rank stabilized LoRA\n",
    "    loftq_config = None, # And LoftQ\n",
    ")"
   ]
  },
  {
   "cell_type": "markdown",
   "id": "2a2af753-e72f-42d5-a390-fbf78a7514b8",
   "metadata": {},
   "source": [
    "Preparing a dataset from Whatsapp chat data"
   ]
  },
  {
   "cell_type": "code",
   "execution_count": null,
   "id": "1e120760-35a0-4c90-ba9d-f3daa57084a1",
   "metadata": {},
   "outputs": [],
   "source": [
    "import pandas as pd\n",
    "from datasets import Dataset, load_dataset\n",
    "from unsloth.chat_templates import get_chat_template\n",
    "\n",
    "tokenizer = get_chat_template(\n",
    "    tokenizer,\n",
    "    chat_template=\"llama-3\",  # Use the desired chat template\n",
    "    mapping={\"role\": \"from\", \"content\": \"value\", \"user\": \"human\", \"assistant\": \"gpt\"}\n",
    ")\n",
    "\n",
    "# Define the formatting function\n",
    "def formatting_prompts_func(examples):\n",
    "    convos = examples[\"conversations\"]\n",
    "    texts = [tokenizer.apply_chat_template(convo, tokenize=False, add_generation_prompt=False) for convo in convos]\n",
    "    return {\"text\": texts}\n",
    "\n",
    "df = pd.read_csv(\"all_chat_data.csv\")\n",
    "conversations = []\n",
    "for _, row in df.iterrows():\n",
    "    try:\n",
    "        conversation = [\n",
    "            {'from': 'human', 'value': str(row['Prompt'])},\n",
    "            {'from': 'assistant', 'value': str(row['Response'])}\n",
    "        ]\n",
    "        conversations.append(conversation)\n",
    "    except:\n",
    "        print(_ , row)\n",
    "\n",
    "\n",
    "dataset = Dataset.from_dict({\"conversations\": conversations})\n",
    "dataset = dataset.map(formatting_prompts_func, batched=True)"
   ]
  },
  {
   "cell_type": "markdown",
   "id": "1afacaa2-625a-4822-b787-95e8c62837ee",
   "metadata": {},
   "source": [
    "testing"
   ]
  },
  {
   "cell_type": "code",
   "execution_count": null,
   "id": "1f47bfde-a1d8-44c9-a7de-713648ed5352",
   "metadata": {},
   "outputs": [],
   "source": [
    "dataset[5][\"conversations\"]"
   ]
  },
  {
   "cell_type": "markdown",
   "id": "487743d4-ad74-40dd-b4b8-4fdd5eab7f55",
   "metadata": {},
   "source": [
    "I train the model using Huggingface TRL's `SFTTrainer`. I set the number of epochs to 1, for testing purposes, but it is generally recommended to set it to 2 or 3. This can be experiemented. Generally, do not od more than 3 epochs if `training loss` isn't decreasing with each epoch."
   ]
  },
  {
   "cell_type": "code",
   "execution_count": null,
   "id": "a02a71c1-f245-483c-9856-aa4119922aba",
   "metadata": {},
   "outputs": [],
   "source": [
    "from trl import SFTTrainer\n",
    "from transformers import TrainingArguments\n",
    "from unsloth import is_bfloat16_supported\n",
    "\n",
    "trainer = SFTTrainer(\n",
    "    model = model,\n",
    "    tokenizer = tokenizer,\n",
    "    train_dataset = dataset,\n",
    "    dataset_text_field = \"text\",\n",
    "    max_seq_length = max_seq_length,\n",
    "    dataset_num_proc = 2,\n",
    "    packing = False, # Can make training 5x faster for short sequences.\n",
    "    args = TrainingArguments(\n",
    "        per_device_train_batch_size = 2,\n",
    "        gradient_accumulation_steps = 4,\n",
    "        warmup_steps = 5,\n",
    "        num_train_epochs=1,\n",
    "        learning_rate = 2e-4,\n",
    "        fp16 = not is_bfloat16_supported(),\n",
    "        bf16 = is_bfloat16_supported(),\n",
    "        logging_steps = 1,\n",
    "        optim = \"adamw_8bit\",\n",
    "        weight_decay = 0.01,\n",
    "        lr_scheduler_type = \"linear\",\n",
    "        seed = 3407,\n",
    "        output_dir = \"outputs\",\n",
    "    ),\n",
    ")"
   ]
  },
  {
   "cell_type": "code",
   "execution_count": null,
   "id": "a2b095b0-36f7-48ab-8b79-46c85f9c3997",
   "metadata": {},
   "outputs": [],
   "source": [
    "trainer_stats = trainer.train()"
   ]
  },
  {
   "cell_type": "markdown",
   "id": "3cd78ef8-89bb-4e52-b801-b1ef01e38db5",
   "metadata": {},
   "source": [
    "## Inference\n",
    "\n",
    "We have trained the model. Let's do some inference on it!"
   ]
  },
  {
   "cell_type": "code",
   "execution_count": null,
   "id": "347754f6-e658-4490-9f92-b849c33d595c",
   "metadata": {},
   "outputs": [],
   "source": [
    "from unsloth.chat_templates import get_chat_template\n",
    "from transformers import TextStreamer\n",
    "\n",
    "tokenizer = get_chat_template(\n",
    "    tokenizer,\n",
    "    chat_template = \"llama-3\", # Supports zephyr, chatml, mistral, llama, alpaca, vicuna, vicuna_old, unsloth\n",
    "    mapping = {\"role\" : \"from\", \"content\" : \"value\", \"user\" : \"human\", \"assistant\" : \"gpt\"}, # ShareGPT style\n",
    ")\n",
    "text_streamer = TextStreamer(tokenizer)\n",
    "FastLanguageModel.for_inference(model) # Enable native 2x faster inference\n",
    "\n",
    "messages = [\n",
    "    {\"from\": \"human\", \"value\": \"Pagal ho gya hai kya\"},\n",
    "]\n",
    "inputs = tokenizer.apply_chat_template(\n",
    "    messages,\n",
    "    tokenize = True,\n",
    "    add_generation_prompt = True, # Must add for generation\n",
    "    return_tensors = \"pt\",\n",
    ").to(\"cuda\")\n",
    "\n",
    "output = model.generate(input_ids = inputs, streamer = text_streamer, max_new_tokens = 128, use_cache = True)"
   ]
  },
  {
   "cell_type": "markdown",
   "id": "cc742caa-e2fb-4f13-8501-24be1e3b44ae",
   "metadata": {},
   "source": [
    "## Saving model\n",
    "\n",
    "We save the fine tuned model as LoRA adapters. We can also save it as GGUF or 16bit (later !)"
   ]
  },
  {
   "cell_type": "code",
   "execution_count": null,
   "id": "1b2b0b39-b03a-497b-adce-c4de41fda650",
   "metadata": {},
   "outputs": [],
   "source": [
    "model.save_pretrained(\"lora_model\") # Local saving"
   ]
  },
  {
   "cell_type": "markdown",
   "id": "966945c2-ad41-4255-b981-ea8289d26244",
   "metadata": {},
   "source": [
    "We save it as GGUF so that we can use it with Ollama. Unsloth allows all methods such as `q4_k_m`. "
   ]
  },
  {
   "cell_type": "code",
   "execution_count": null,
   "id": "0691ee5f-9639-437b-b427-de2a816a7656",
   "metadata": {},
   "outputs": [],
   "source": [
    "# Save to 8bit Q8_0\n",
    "if True: model.save_pretrained_gguf(\"model\", tokenizer,)\n",
    "if False: model.push_to_hub_gguf(\"hf/model\", tokenizer, token = \"\")"
   ]
  },
  {
   "cell_type": "markdown",
   "id": "ad633b63-99b9-4904-b994-b80c7ec0006f",
   "metadata": {},
   "source": [
    "And that should be it with our model!"
   ]
  },
  {
   "cell_type": "code",
   "execution_count": null,
   "id": "2e9810e5-c3f0-4a8b-ab4b-45b8646a4b69",
   "metadata": {},
   "outputs": [],
   "source": []
  }
 ],
 "metadata": {
  "kernelspec": {
   "display_name": "Python 3 (ipykernel)",
   "language": "python",
   "name": "python3"
  },
  "language_info": {
   "codemirror_mode": {
    "name": "ipython",
    "version": 3
   },
   "file_extension": ".py",
   "mimetype": "text/x-python",
   "name": "python",
   "nbconvert_exporter": "python",
   "pygments_lexer": "ipython3",
   "version": "3.12.4"
  }
 },
 "nbformat": 4,
 "nbformat_minor": 5
}
